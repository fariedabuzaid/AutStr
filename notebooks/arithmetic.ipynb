{
 "cells": [
  {
   "cell_type": "code",
   "execution_count": null,
   "id": "014fe7bd-e587-491b-9862-4dca24c0e69f",
   "metadata": {},
   "outputs": [],
   "source": [
    "from autstr.arithmetic import VariableETerm as Var\n",
    "from time import time\n",
    "x = Var('x')"
   ]
  },
  {
   "cell_type": "markdown",
   "id": "45dccf70-33f8-4617-b6e7-a5ffadac9cf2",
   "metadata": {},
   "source": [
    "# Algorithmic Design with Infinite Sets: The Sieve of Eratosthenes\n",
    "AutStr enables novel algorithm design using infinite sets as first-class citizens. This implementation of the Sieve of Eratosthenes maintains the infinite candidate prime set symbolically:"
   ]
  },
  {
   "cell_type": "code",
   "execution_count": null,
   "id": "966543c9-eac4-46f0-8502-c14fd3edd37d",
   "metadata": {},
   "outputs": [],
   "source": [
    "def infinite_sieve(steps):\n",
    "    \"\"\"Sieve of Eratosthenes over infinite integers\"\"\"\n",
    "    x = Var('x')\n",
    "    candidates = (x.gt(1))  # Initial infinite set: {2,3,4,...}\n",
    "    primes = []\n",
    "    \n",
    "    for _ in range(steps):\n",
    "        # Find smallest candidate (symbolic operation)\n",
    "        start = time()\n",
    "        for p in candidates: # Elements are listed in ascending order (absolute values) \n",
    "            primes.append(p[0])\n",
    "            print(primes)\n",
    "            break\n",
    "        end = time()\n",
    "        print(f\"computing next prime took: {end - start} seconds\")\n",
    "        \n",
    "        # Remove multiples: candidates = candidates \\ {k·p | k>1}\n",
    "        p = primes[-1]\n",
    "        y = Var(\"y\")\n",
    "        multiples = (x.eq(p * y)).drop(\"y\")\n",
    "        candidates = candidates & ~multiples \n",
    "        \n",
    "    return primes, candidates\n",
    "\n",
    "# Execute first 5 sieving steps\n",
    "primes, remaining = infinite_sieve(steps=3)\n",
    "print(f\"Primes found: {primes}\")  # [2,3,5,7,11]\n",
    "print(f\"Remaining infinite set:\") \n",
    "VisualDFA(remaining.evaluate()).show_diagram()"
   ]
  },
  {
   "cell_type": "markdown",
   "id": "26fc46e1-b0bf-4b5f-8a49-3c7d1d70dd1b",
   "metadata": {},
   "source": [
    "# Integer Linear Equation Systems\n",
    "As we have seen, working with infinite structures is for sure compute intense. This is due to the fact that we can define (and in principle solve) extremly complext problems within our formalism. Solving linear equation systems with integer constraints is one such problem. In contrast to their continuous counterparts, integer linear equation systems are known to bw NP hard to solve.  \n",
    "\n",
    "With the Arithmetic package, we can easily define and solve such systems."
   ]
  },
  {
   "cell_type": "code",
   "execution_count": null,
   "id": "060cbf58-3d09-4196-bb3b-4e0baf0fabeb",
   "metadata": {},
   "outputs": [],
   "source": [
    "# Define variables\n",
    "x,y, z = Var(\"x\"), Var(\"y\"), Var(\"z\")"
   ]
  },
  {
   "cell_type": "markdown",
   "id": "dc62f306-4dbc-4257-b62a-66760cf3acd5",
   "metadata": {},
   "source": [
    "# Solvable"
   ]
  },
  {
   "cell_type": "code",
   "execution_count": null,
   "id": "32c9b9fd-7e48-4db8-a4bf-7ee4079a26e0",
   "metadata": {},
   "outputs": [],
   "source": [
    "%%time\n",
    "eq1 = (x + y).eq(6) \n",
    "eq2 = (y + z).eq(12) \n",
    "eq3 = (x + z).eq(10) \n",
    "eqn_sys = eq1 & eq2 & eq3\n",
    "\n",
    "for s in eqn_sys:\n",
    "    print(s)"
   ]
  },
  {
   "cell_type": "markdown",
   "id": "510cc124-40a8-48e1-9a5c-8e73598620f9",
   "metadata": {},
   "source": [
    "## Unsolvable"
   ]
  },
  {
   "cell_type": "code",
   "execution_count": null,
   "id": "86cd7a58-eab3-4c6d-94ff-05b6ef614868",
   "metadata": {},
   "outputs": [],
   "source": [
    "%%time\n",
    "eq1 = (3 * y + 5 * z).eq(1) \n",
    "eq2 = (x + y).eq(5) \n",
    "eq3 = (2*z + x).eq(17) \n",
    "eqn_sys = eq1 & eq2 & eq3\n",
    "\n",
    "eqn_sys.isempty()"
   ]
  }
 ],
 "metadata": {
  "kernelspec": {
   "display_name": "Python 3 (ipykernel)",
   "language": "python",
   "name": "python3"
  },
  "language_info": {
   "codemirror_mode": {
    "name": "ipython",
    "version": 3
   },
   "file_extension": ".py",
   "mimetype": "text/x-python",
   "name": "python",
   "nbconvert_exporter": "python",
   "pygments_lexer": "ipython3",
   "version": "3.12.0"
  }
 },
 "nbformat": 4,
 "nbformat_minor": 5
}
